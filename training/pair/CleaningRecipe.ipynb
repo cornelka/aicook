{
 "cells": [
  {
   "cell_type": "code",
   "execution_count": null,
   "metadata": {},
   "outputs": [],
   "source": [
    "#dropping columns in the recipedataset for a faster load and search"
   ]
  },
  {
   "cell_type": "code",
   "execution_count": 1,
   "metadata": {},
   "outputs": [],
   "source": [
    "import pandas as pd"
   ]
  },
  {
   "cell_type": "code",
   "execution_count": 2,
   "metadata": {},
   "outputs": [],
   "source": [
    "recipe= pd.DataFrame(pd.read_json(\"recipe_top_match.json\"))"
   ]
  },
  {
   "cell_type": "code",
   "execution_count": 5,
   "metadata": {},
   "outputs": [],
   "source": [
    "RecipeCleaned= recipe[['title','instructions','ingredient_top_match']]"
   ]
  },
  {
   "cell_type": "code",
   "execution_count": 6,
   "metadata": {},
   "outputs": [
    {
     "data": {
      "text/html": [
       "<div>\n",
       "<style scoped>\n",
       "    .dataframe tbody tr th:only-of-type {\n",
       "        vertical-align: middle;\n",
       "    }\n",
       "\n",
       "    .dataframe tbody tr th {\n",
       "        vertical-align: top;\n",
       "    }\n",
       "\n",
       "    .dataframe thead th {\n",
       "        text-align: right;\n",
       "    }\n",
       "</style>\n",
       "<table border=\"1\" class=\"dataframe\">\n",
       "  <thead>\n",
       "    <tr style=\"text-align: right;\">\n",
       "      <th></th>\n",
       "      <th>title</th>\n",
       "      <th>instructions</th>\n",
       "      <th>ingredient_top_match</th>\n",
       "    </tr>\n",
       "  </thead>\n",
       "  <tbody>\n",
       "    <tr>\n",
       "      <td>rmK12Uau.ntP510KeImX506H6Mr6jTu</td>\n",
       "      <td>Slow Cooker Chicken and Dumplings</td>\n",
       "      <td>Place the chicken, butter, soup, and onion in ...</td>\n",
       "      <td>[condensed cream, boneless chicken breast halv...</td>\n",
       "    </tr>\n",
       "    <tr>\n",
       "      <td>5ZpZE8hSVdPk2ZXo1mZTyoPWJRSCPSm</td>\n",
       "      <td>Awesome Slow Cooker Pot Roast</td>\n",
       "      <td>In a slow cooker, mix cream of mushroom soup, ...</td>\n",
       "      <td>[pot roast, condensed cream, onion soup mix]</td>\n",
       "    </tr>\n",
       "    <tr>\n",
       "      <td>clyYQv.CplpwJtjNaFGhx0VilNYqRxu</td>\n",
       "      <td>Brown Sugar Meatloaf</td>\n",
       "      <td>Preheat oven to 350 degrees F (175 degrees C)....</td>\n",
       "      <td>[brown sugar, lean ground beef, cracker crumbs]</td>\n",
       "    </tr>\n",
       "    <tr>\n",
       "      <td>BmqFAmCrDHiKNwX.IQzb0U/v0mLlxFu</td>\n",
       "      <td>Best Chocolate Chip Cookies</td>\n",
       "      <td>Preheat oven to 350 degrees F (175 degrees C)....</td>\n",
       "      <td>[semisweet chocolate chips, all-purpose flour,...</td>\n",
       "    </tr>\n",
       "    <tr>\n",
       "      <td>N.jCksRjB4MFwbgPFQU8Kg.yF.XCtOi</td>\n",
       "      <td>Homemade Mac and Cheese Casserole</td>\n",
       "      <td>Preheat oven to 350 degrees F. Line a 2-quart ...</td>\n",
       "      <td>[cheese, cream cheese, broccoli florets]</td>\n",
       "    </tr>\n",
       "    <tr>\n",
       "      <td>...</td>\n",
       "      <td>...</td>\n",
       "      <td>...</td>\n",
       "      <td>...</td>\n",
       "    </tr>\n",
       "    <tr>\n",
       "      <td>4bfMWxlbKhx/McJq/89k0SBdw.VvAzW</td>\n",
       "      <td>Summer Corn Salad</td>\n",
       "      <td>Watch how to make this recipe.\\nPreheat a gril...</td>\n",
       "      <td>[corn, rum, olive oil]</td>\n",
       "    </tr>\n",
       "    <tr>\n",
       "      <td>T8lWBA1fcVdjxhMSWuoAbGoy5Lj.A8m</td>\n",
       "      <td>Zucchini Stuffed Tomatoes</td>\n",
       "      <td>Preheat the broiler. Cut the tomatoes in 1/2 c...</td>\n",
       "      <td>[zucchini, plum tomatoes, ]</td>\n",
       "    </tr>\n",
       "    <tr>\n",
       "      <td>f/coffo2TMs2J2gq5nTOUIqH2TRAkui</td>\n",
       "      <td>Pepper Pasta Quick Cook</td>\n",
       "      <td>Heat the oil and butter in a large skillet ove...</td>\n",
       "      <td>[, freshly ground pepper, orange bell pepper]</td>\n",
       "    </tr>\n",
       "    <tr>\n",
       "      <td>q3aDJc4zoEF5QT4e7Mn.ieQwV.DyHwS</td>\n",
       "      <td>Chocolate Cake with Armagnac Ice Cream</td>\n",
       "      <td>Preheat oven to 350 degrees. On the top half o...</td>\n",
       "      <td>[bittersweet chocolate, butter, sugar]</td>\n",
       "    </tr>\n",
       "    <tr>\n",
       "      <td>7cXA77UpdDtIfBug2v6lEVIuV3Zcvhm</td>\n",
       "      <td>Crabby Bisque</td>\n",
       "      <td>Watch how to make this recipe.\\nIn a medium sa...</td>\n",
       "      <td>[heavy cream, crab, crab]</td>\n",
       "    </tr>\n",
       "  </tbody>\n",
       "</table>\n",
       "<p>124595 rows × 3 columns</p>\n",
       "</div>"
      ],
      "text/plain": [
       "                                                                  title  \\\n",
       "rmK12Uau.ntP510KeImX506H6Mr6jTu       Slow Cooker Chicken and Dumplings   \n",
       "5ZpZE8hSVdPk2ZXo1mZTyoPWJRSCPSm           Awesome Slow Cooker Pot Roast   \n",
       "clyYQv.CplpwJtjNaFGhx0VilNYqRxu                    Brown Sugar Meatloaf   \n",
       "BmqFAmCrDHiKNwX.IQzb0U/v0mLlxFu             Best Chocolate Chip Cookies   \n",
       "N.jCksRjB4MFwbgPFQU8Kg.yF.XCtOi       Homemade Mac and Cheese Casserole   \n",
       "...                                                                 ...   \n",
       "4bfMWxlbKhx/McJq/89k0SBdw.VvAzW                       Summer Corn Salad   \n",
       "T8lWBA1fcVdjxhMSWuoAbGoy5Lj.A8m               Zucchini Stuffed Tomatoes   \n",
       "f/coffo2TMs2J2gq5nTOUIqH2TRAkui                 Pepper Pasta Quick Cook   \n",
       "q3aDJc4zoEF5QT4e7Mn.ieQwV.DyHwS  Chocolate Cake with Armagnac Ice Cream   \n",
       "7cXA77UpdDtIfBug2v6lEVIuV3Zcvhm                           Crabby Bisque   \n",
       "\n",
       "                                                                      instructions  \\\n",
       "rmK12Uau.ntP510KeImX506H6Mr6jTu  Place the chicken, butter, soup, and onion in ...   \n",
       "5ZpZE8hSVdPk2ZXo1mZTyoPWJRSCPSm  In a slow cooker, mix cream of mushroom soup, ...   \n",
       "clyYQv.CplpwJtjNaFGhx0VilNYqRxu  Preheat oven to 350 degrees F (175 degrees C)....   \n",
       "BmqFAmCrDHiKNwX.IQzb0U/v0mLlxFu  Preheat oven to 350 degrees F (175 degrees C)....   \n",
       "N.jCksRjB4MFwbgPFQU8Kg.yF.XCtOi  Preheat oven to 350 degrees F. Line a 2-quart ...   \n",
       "...                                                                            ...   \n",
       "4bfMWxlbKhx/McJq/89k0SBdw.VvAzW  Watch how to make this recipe.\\nPreheat a gril...   \n",
       "T8lWBA1fcVdjxhMSWuoAbGoy5Lj.A8m  Preheat the broiler. Cut the tomatoes in 1/2 c...   \n",
       "f/coffo2TMs2J2gq5nTOUIqH2TRAkui  Heat the oil and butter in a large skillet ove...   \n",
       "q3aDJc4zoEF5QT4e7Mn.ieQwV.DyHwS  Preheat oven to 350 degrees. On the top half o...   \n",
       "7cXA77UpdDtIfBug2v6lEVIuV3Zcvhm  Watch how to make this recipe.\\nIn a medium sa...   \n",
       "\n",
       "                                                              ingredient_top_match  \n",
       "rmK12Uau.ntP510KeImX506H6Mr6jTu  [condensed cream, boneless chicken breast halv...  \n",
       "5ZpZE8hSVdPk2ZXo1mZTyoPWJRSCPSm       [pot roast, condensed cream, onion soup mix]  \n",
       "clyYQv.CplpwJtjNaFGhx0VilNYqRxu    [brown sugar, lean ground beef, cracker crumbs]  \n",
       "BmqFAmCrDHiKNwX.IQzb0U/v0mLlxFu  [semisweet chocolate chips, all-purpose flour,...  \n",
       "N.jCksRjB4MFwbgPFQU8Kg.yF.XCtOi           [cheese, cream cheese, broccoli florets]  \n",
       "...                                                                            ...  \n",
       "4bfMWxlbKhx/McJq/89k0SBdw.VvAzW                             [corn, rum, olive oil]  \n",
       "T8lWBA1fcVdjxhMSWuoAbGoy5Lj.A8m                        [zucchini, plum tomatoes, ]  \n",
       "f/coffo2TMs2J2gq5nTOUIqH2TRAkui      [, freshly ground pepper, orange bell pepper]  \n",
       "q3aDJc4zoEF5QT4e7Mn.ieQwV.DyHwS             [bittersweet chocolate, butter, sugar]  \n",
       "7cXA77UpdDtIfBug2v6lEVIuV3Zcvhm                          [heavy cream, crab, crab]  \n",
       "\n",
       "[124595 rows x 3 columns]"
      ]
     },
     "execution_count": 6,
     "metadata": {},
     "output_type": "execute_result"
    }
   ],
   "source": [
    "RecipeCleaned"
   ]
  },
  {
   "cell_type": "code",
   "execution_count": 8,
   "metadata": {},
   "outputs": [
    {
     "data": {
      "text/plain": [
       "list"
      ]
     },
     "execution_count": 8,
     "metadata": {},
     "output_type": "execute_result"
    }
   ],
   "source": [
    "type(RecipeCleaned.ingredient_top_match[0])"
   ]
  },
  {
   "cell_type": "code",
   "execution_count": 9,
   "metadata": {},
   "outputs": [],
   "source": [
    "RecipeCleaned.to_pickle('RecipeCleaned.pkl')"
   ]
  },
  {
   "cell_type": "code",
   "execution_count": null,
   "metadata": {},
   "outputs": [],
   "source": []
  }
 ],
 "metadata": {
  "kernelspec": {
   "display_name": "Python 3",
   "language": "python",
   "name": "python3"
  },
  "language_info": {
   "codemirror_mode": {
    "name": "ipython",
    "version": 3
   },
   "file_extension": ".py",
   "mimetype": "text/x-python",
   "name": "python",
   "nbconvert_exporter": "python",
   "pygments_lexer": "ipython3",
   "version": "3.7.4"
  }
 },
 "nbformat": 4,
 "nbformat_minor": 2
}
